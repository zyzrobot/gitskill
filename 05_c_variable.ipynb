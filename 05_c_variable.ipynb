{
 "cells": [
  {
   "cell_type": "markdown",
   "metadata": {},
   "source": [
    "<a name=\"top\"></a><img src=\"images/C_CODING_RULES.png\" alt=\"C logo\" style=\"width:800px;\" />"
   ]
  },
  {
   "cell_type": "markdown",
   "metadata": {},
   "source": [
    "# 5. 变量\n",
    "**Next: [函数](06_c_func.ipynb)**\n",
    "\n",
    "## 简述\n",
    "总体上C语言的变量可以分为4大类：局部变量、静态局部变量、静态全局变量、全局变量。\n"
   ]
  },
  {
   "cell_type": "markdown",
   "metadata": {},
   "source": [
    "## 局部变量\n",
    "代码块内的一般变量；代码块是指用{}括起来的一段代码。**局部变量**的作用域为代码块内。"
   ]
  },
  {
   "cell_type": "code",
   "execution_count": null,
   "metadata": {},
   "outputs": [],
   "source": [
    "while (1) {\n",
    "    int flag = foo_1 && foo_2;\n",
    "    if (flag) {\n",
    "        ...\n",
    "    }\n",
    "}\n",
    "\n",
    "\n",
    "int foo(int num)\n",
    "{\n",
    "    int val;\n",
    "    \n",
    "    val = num * 2;\n",
    "    return val;\n",
    "}"
   ]
  },
  {
   "cell_type": "markdown",
   "metadata": {},
   "source": [
    "## 静态局部变量\n",
    "代码块内使用static修饰的局部变量。**静态局部变量**的作用域为函数内。\n",
    "\n",
    "静态局部变量在第一次函数被调用时创造并初始化，但在函数退出时它不死亡，而是保持其值等待函数下一次被调用。\n",
    "下次调用时不再重新创造和初始化该变量，而是直接用上一次留下的值为基础来进行操作。"
   ]
  },
  {
   "cell_type": "code",
   "execution_count": null,
   "metadata": {},
   "outputs": [],
   "source": [
    "int foo_counter(void)\n",
    "{\n",
    "    static int s_counter = 0;\n",
    "    \n",
    "    return s_counter++;\n",
    "}"
   ]
  },
  {
   "cell_type": "markdown",
   "metadata": {},
   "source": [
    "## 全局变量  \n",
    "全局变量是指定义在C源码文件中的变量，可以被其他所有源码访问。**全局变量**的作用域是整个项目。"
   ]
  },
  {
   "cell_type": "code",
   "execution_count": null,
   "metadata": {},
   "outputs": [],
   "source": [
    "#include <debug.h>\n",
    "#include \"foo.h\"\n",
    "\n",
    "u32 g_foo_num = 0;"
   ]
  },
  {
   "cell_type": "markdown",
   "metadata": {},
   "source": [
    "## 静态全局变量\n",
    "静态全局变量是指定义在C源码文件中的static变量，可以被所在文件内的代码访问。静态全局变量的作用域是整个文件。\n",
    "\n",
    "从作用域的范围看：静态局部变量 <= 局部变量 <= 静态全局变量 <= 全局变量"
   ]
  },
  {
   "cell_type": "code",
   "execution_count": null,
   "metadata": {},
   "outputs": [],
   "source": [
    "#include <debug.h>\n",
    "#include \"foo.h\"\n",
    "\n",
    "staic u32 gs_foo = 0;"
   ]
  },
  {
   "cell_type": "markdown",
   "metadata": {},
   "source": [
    "## 规则1：全局变量、静态全局变量应集中定义。\n",
    "全局变量、静态全局变量有用较大的作用域，因此应该集中定义，便于管理。实际上，C源码文件的布局是有格式的："
   ]
  },
  {
   "cell_type": "code",
   "execution_count": null,
   "metadata": {},
   "outputs": [],
   "source": [
    "/* C source file temple */\n",
    "\n",
    "// include files\n",
    "#include \"foo1.h\"\n",
    "#include \"foo2.h\"\n",
    "\n",
    "// macro defines\n",
    "#deine FOO_1 0x01\n",
    "\n",
    "// global variables\n",
    "u32 g_foo_bar = 0;\n",
    "u32 g_bar_foo = 0;\n",
    "\n",
    "// static global variables\n",
    "u32 gs_foo_1 = 0;\n",
    "u32 gs_foo_2 = 0;\n",
    "\n",
    "// static functions\n",
    "static _foo_1(void)\n",
    "{\n",
    "    ....\n",
    "}\n",
    "\n",
    "// functions\n",
    "int bar(int flag)\n",
    "{\n",
    "    ....\n",
    "}"
   ]
  },
  {
   "cell_type": "markdown",
   "metadata": {},
   "source": [
    "## 规则2：局部变量初始化即声明。\n",
    "由于C89的限制，很多教材都强调变量的声明应放在函数最开始的位置。但软件工程实践表明，变量最好在第1次使用的时候声明。同时，现代C编译器都满足C99的要求，C99允许在函数的任何位置声明变量。我们提倡在尽可能小的作用域中声明变量，离第一次使用越近越好。"
   ]
  },
  {
   "cell_type": "code",
   "execution_count": null,
   "metadata": {},
   "outputs": [],
   "source": [
    "// Bad way\n",
    "int i;\n",
    "i = f();"
   ]
  },
  {
   "cell_type": "code",
   "execution_count": null,
   "metadata": {},
   "outputs": [],
   "source": [
    "// Good way\n",
    "int j = g();\n",
    "\n",
    "while (const char* p = strchr(str, '/')) {\n",
    "    str = p + 1;\n",
    "}\n",
    " \n",
    "for (int i = 0; i < len; ++i) {\n",
    "    ...\n",
    "}"
   ]
  },
  {
   "cell_type": "markdown",
   "metadata": {},
   "source": [
    "## 规则3：指针变量必须初始化。\n",
    "未初始化的指针类型变量，即为野指针，可能会导致严重的内存破坏和莫名的函数跳转。在实践中，我们强调，指针变量都必须初始化。"
   ]
  },
  {
   "cell_type": "code",
   "execution_count": null,
   "metadata": {},
   "outputs": [],
   "source": [
    "// bad way\n",
    "tcb *task_ptr;\n",
    "\n",
    "// good way\n",
    "tcb *task_ptr = NULL;"
   ]
  },
  {
   "cell_type": "markdown",
   "metadata": {},
   "source": [
    "[返回顶部](#top)"
   ]
  }
 ],
 "metadata": {
  "kernelspec": {
   "display_name": "C",
   "language": "c",
   "name": "c"
  },
  "language_info": {
   "file_extension": ".c",
   "mimetype": "text/plain",
   "name": "c"
  }
 },
 "nbformat": 4,
 "nbformat_minor": 2
}
