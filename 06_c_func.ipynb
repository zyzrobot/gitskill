{
 "cells": [
  {
   "cell_type": "markdown",
   "metadata": {},
   "source": [
    "<a name=\"top\"></a><img src=\"images/C_CODING_RULES.png\" alt=\"C logo\" style=\"width:800px;\" />"
   ]
  },
  {
   "cell_type": "markdown",
   "metadata": {},
   "source": [
    "# 6. 函数\n",
    "**Next: [格式化](07_c_format.ipynb)**\n",
    "\n",
    "## 简述\n",
    "类似于变量，函数也可以分为静态函数和全局函数：\n",
    "- 静态函数：static 修饰的函数，作用域为C源文件内。\n",
    "- 全局函数：没有加 static 修饰的函数，作用域为整个项目。"
   ]
  },
  {
   "cell_type": "code",
   "execution_count": null,
   "metadata": {},
   "outputs": [],
   "source": [
    "static int _foo(int num)\n",
    "{\n",
    "    return num * 2;\n",
    "}\n",
    "\n",
    "int bar(int num)\n",
    "{\n",
    "    return _foo(num + 1);\n",
    "}"
   ]
  },
  {
   "cell_type": "markdown",
   "metadata": {},
   "source": [
    "## 规则1：编写简短的函数。\n",
    "实践表明，超过 40 行的函数往往都可以分解为多个函数。\n",
    "\n",
    "长函数有它存在的合理性，因此我们并不硬性限制函数的长度。 \n",
    "但如果函数超过40行，往往意味这它实现的功能较多，可以拆分为多个较小的函数。\n",
    "简洁短小的函数，往往便于修改、便于调试、便于移交和维护。"
   ]
  },
  {
   "cell_type": "code",
   "execution_count": null,
   "metadata": {},
   "outputs": [],
   "source": []
  },
  {
   "cell_type": "markdown",
   "metadata": {},
   "source": [
    "## 规则2：无参函数须指定void参数。\n",
    "C89和C99对无参函数的解释有较大的差异，为了屏蔽这些差异，提高代码的可读性、可移植性，在编写无参函数时，应明确指定void参数。"
   ]
  },
  {
   "cell_type": "code",
   "execution_count": null,
   "metadata": {},
   "outputs": [],
   "source": [
    "// Bad way\n",
    "int foo()\n",
    "{\n",
    "    ...\n",
    "}\n",
    "\n",
    "bar(int n)\n",
    "{\n",
    "    ...\n",
    "}"
   ]
  },
  {
   "cell_type": "code",
   "execution_count": null,
   "metadata": {},
   "outputs": [],
   "source": [
    "// Good way\n",
    "int foo(void)\n",
    "{\n",
    "    ...\n",
    "}\n",
    "\n",
    "void bar(int n)\n",
    "{\n",
    "    ...\n",
    "}"
   ]
  },
  {
   "cell_type": "markdown",
   "metadata": {},
   "source": [
    "## 规则3：必须检查入参的合理范围。\n",
    "开发阶段，应该检查所有入参的合理范围；产品阶段，为提高运行效率，可检查重要入参。"
   ]
  },
  {
   "cell_type": "code",
   "execution_count": null,
   "metadata": {},
   "outputs": [],
   "source": [
    "void foo(int *ptr)\n",
    "{\n",
    "    if (!ptr)\n",
    "        return;\n",
    "        \n",
    "    ....\n",
    "}\n",
    "\n"
   ]
  },
  {
   "cell_type": "markdown",
   "metadata": {},
   "source": [
    "## 规则4：无错误处理函数，直接返回结果。\n",
    "如果编写的函数只是涉及简单的处理流程，并不涉及错误处理流程，则可以使用return返回结果。"
   ]
  },
  {
   "cell_type": "code",
   "execution_count": null,
   "metadata": {},
   "outputs": [],
   "source": [
    "int compare_two_u32( uint32_t a, uint32_t b )\n",
    "{\n",
    "    return a >= b;\n",
    "}"
   ]
  },
  {
   "cell_type": "markdown",
   "metadata": {},
   "source": [
    "## 规则5：有错误处理函数，函数返回状态码，指针传参返回结果。\n",
    "大部分函数都会涉及到错误处理，此时函数应返回错误状态码，函数处理的结果应通过指针返回。"
   ]
  },
  {
   "cell_type": "code",
   "execution_count": null,
   "metadata": {},
   "outputs": [],
   "source": [
    "int process_data(const char *buf_in, int len_in, char *buf_out)\n",
    "{\n",
    "    if (!buf_in || !buf_out)\n",
    "        return ERR_NULL;\n",
    "    \n",
    "    ....\n",
    "    \n",
    "    return ERR_OK;\n",
    "}"
   ]
  },
  {
   "cell_type": "markdown",
   "metadata": {},
   "source": [
    "[返回顶部](#top)"
   ]
  }
 ],
 "metadata": {
  "kernelspec": {
   "display_name": "C",
   "language": "c",
   "name": "c"
  },
  "language_info": {
   "file_extension": ".c",
   "mimetype": "text/plain",
   "name": "c"
  }
 },
 "nbformat": 4,
 "nbformat_minor": 2
}
