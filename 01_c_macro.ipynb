{
 "cells": [
  {
   "cell_type": "markdown",
   "metadata": {},
   "source": [
    "<a name=\"top\"></a><img src=\"images/C_CODING_RULES.png\" alt=\"C logo\" style=\"width:800px;\" />"
   ]
  },
  {
   "cell_type": "markdown",
   "metadata": {},
   "source": [
    "# 1. 宏\n",
    "**Next: [头文件](02_c_include.ipynb)**\n",
    "\n",
    "## 简述\n",
    "宏是C语言中比较复杂的一部分，很多新手在编码的时候都踩过宏相关的坑。本章着重介绍在开发过程中应遵循的C宏规则。"
   ]
  },
  {
   "cell_type": "markdown",
   "metadata": {},
   "source": [
    "## 规则1：尽量避免使用宏\n",
    "现代C编译器支持很多可以取代宏的特性，比如：\n",
    "- 内联函数\n",
    "- 枚举\n",
    "- 常量\n",
    "- typedef\n",
    "\n",
    "但有些时候，宏的使用还是不可避免的。比如，宏开关可以控制项目的条件编译等。"
   ]
  },
  {
   "cell_type": "code",
   "execution_count": null,
   "metadata": {},
   "outputs": [],
   "source": [
    "#define FUNC_A_EN 0\n",
    "\n",
    "#if FUNC_A_EN == 1\n",
    "    some codes ...\n",
    "#else\n",
    "    other codes ...\n",
    "#endif"
   ]
  },
  {
   "cell_type": "markdown",
   "metadata": {},
   "source": [
    "## 规则2：宏和宏变量都必须用()保护\n",
    "宏是一种代码替换机制，C代码在预处理的时候，只是简单的将宏替换成代码。因此必须对宏和宏变量保护起来，以维持正常的运算顺序。"
   ]
  },
  {
   "cell_type": "code",
   "execution_count": null,
   "metadata": {},
   "outputs": [],
   "source": [
    "#define MUL2(a, b) a * b\n",
    "\n",
    "int foo(int a, int b)\n",
    "{\n",
    "    return ADD2(a + b, a - b); // replace to: a + b * a - b\n",
    "}"
   ]
  },
  {
   "cell_type": "code",
   "execution_count": null,
   "metadata": {},
   "outputs": [],
   "source": [
    "#define MUL2(a, b) ((a) * (b))"
   ]
  },
  {
   "cell_type": "markdown",
   "metadata": {},
   "source": [
    "## 规则3：多行宏必须使用do {} while(0) 保护\n",
    "原因同规则2，宏只是一种代码替换机制，当涉及到多行代码的宏时，必须保护起来。"
   ]
  },
  {
   "cell_type": "code",
   "execution_count": null,
   "metadata": {},
   "outputs": [],
   "source": [
    " #define FOO(x) \\\n",
    "    action1(); \\\n",
    "    action2();\n",
    "\n",
    "if(NULL == ptr)\n",
    "    FOO(x);"
   ]
  },
  {
   "cell_type": "code",
   "execution_count": null,
   "metadata": {},
   "outputs": [],
   "source": [
    " #define FOO(x) do {\\\n",
    "    action1(); \\\n",
    "    action2(); \\\n",
    "} while (0)"
   ]
  },
  {
   "cell_type": "markdown",
   "metadata": {},
   "source": [
    "# 常用宏指令\n"
   ]
  },
  {
   "cell_type": "markdown",
   "metadata": {},
   "source": [
    "## 定义宏\n",
    "- #define 定义1个新的宏\n",
    "- #undef 取消之前定义的宏\n",
    "- #defined 判断是否定义了某个宏"
   ]
  },
  {
   "cell_type": "code",
   "execution_count": null,
   "metadata": {},
   "outputs": [],
   "source": [
    "#define FOO 1\n",
    "\n",
    "#if defined FOO\n",
    "#undef FOO\n",
    "#endif\n",
    "\n",
    "#ifdef FOO\n",
    "#undef FOO\n",
    "#endif"
   ]
  },
  {
   "cell_type": "markdown",
   "metadata": {},
   "source": [
    "## 条件宏\n",
    "- #if #ifdef #ifndef\n",
    "- #else #elif\n",
    "- #endif\n",
    "\n",
    "这类宏指令常用于控制代码的条件编译。例如："
   ]
  },
  {
   "cell_type": "code",
   "execution_count": null,
   "metadata": {},
   "outputs": [],
   "source": [
    "#define HS_MODE_EN 0\n",
    "\n",
    "void foo(void)\n",
    "{\n",
    "    int rwlen = 0x1000;\n",
    "    \n",
    "#if HS_MODE_EN == 0\n",
    "    rwlen /= 2;\n",
    "#endi\n",
    "}"
   ]
  },
  {
   "cell_type": "markdown",
   "metadata": {},
   "source": [
    "#if 0 可以用来注释大段的代码，算是C语言的第3中注释方法："
   ]
  },
  {
   "cell_type": "code",
   "execution_count": null,
   "metadata": {},
   "outputs": [],
   "source": [
    "#if 0\n",
    "    some codes ...\n",
    "#else\n",
    "    other codes ...\n",
    "#endif"
   ]
  },
  {
   "cell_type": "markdown",
   "metadata": {},
   "source": [
    "## 连接宏\n",
    "\\#\\#用于连接两段代码，是比较常用的，例如："
   ]
  },
  {
   "cell_type": "code",
   "execution_count": null,
   "metadata": {},
   "outputs": [],
   "source": [
    "#define CBIT_0 0x01\n",
    "#define CBIT_1 0x02\n",
    "#define CBIT_2 0x04\n",
    "#define CBIT_3 0x08\n",
    "\n",
    "#define CBIT(pos)  CBIT_ ## pos"
   ]
  },
  {
   "cell_type": "markdown",
   "metadata": {},
   "source": [
    "## 字符化\n",
    "\\# 可以把常量参数字符串化，例如："
   ]
  },
  {
   "cell_type": "code",
   "execution_count": null,
   "metadata": {},
   "outputs": [],
   "source": [
    "#define CINT2STR(val) #val\n",
    "\n",
    "char *foo(void)\n",
    "{\n",
    "    char *s = CINT2STR(1234); // \"1234\"\n",
    "    return s;\n",
    "}"
   ]
  },
  {
   "cell_type": "markdown",
   "metadata": {},
   "source": [
    "## 编译器宏\n",
    "- \\_\\_LINE\\_\\_\n",
    "- \\_\\_FUNC\\_\\_\n",
    "- \\_\\_FUNCTION\\_\\_\n",
    "- \\_\\_FILE\\_\\_\n",
    "\n",
    "很多编译器都可以通过 ##pragma 设置编译器选项，比如gcc、vc都有自家特定的编译选项。例如vc编译器的："
   ]
  },
  {
   "cell_type": "code",
   "execution_count": null,
   "metadata": {},
   "outputs": [],
   "source": [
    "#pragma once // 头文件只包含一次\n",
    "#pragma warning(disable:4700)  //不发生4700警告"
   ]
  },
  {
   "cell_type": "markdown",
   "metadata": {},
   "source": [
    "再比如 gcc 编译器："
   ]
  },
  {
   "cell_type": "code",
   "execution_count": null,
   "metadata": {},
   "outputs": [],
   "source": [
    "// 关闭行代码产生的警告\n",
    "#pragma GCC diagnostic push\n",
    "#pragma GCC diagnostic ignored \"-Winherited-variadic-ctor\""
   ]
  },
  {
   "cell_type": "markdown",
   "metadata": {},
   "source": [
    "[返回顶部](#top)"
   ]
  }
 ],
 "metadata": {
  "kernelspec": {
   "display_name": "C",
   "language": "c",
   "name": "c"
  },
  "language_info": {
   "file_extension": ".c",
   "mimetype": "text/plain",
   "name": "c"
  }
 },
 "nbformat": 4,
 "nbformat_minor": 2
}
