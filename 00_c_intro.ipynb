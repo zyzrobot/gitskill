{
 "cells": [
  {
   "cell_type": "markdown",
   "metadata": {},
   "source": [
    "<a name=\"top\"></a><img src=\"images/C_CODING_RULES.png\" alt=\"C logo\" style=\"width:800px;\" />"
   ]
  },
  {
   "cell_type": "markdown",
   "metadata": {},
   "source": [
    "# 0. 概述\n",
    "**Next: [宏](01_c_macro.ipynb)**\n",
    "\n",
    "现在嵌入式开发、驱动开发等使用的C编译器都是符合C99标准的，因此本文都是以C99为依据讲述应遵循的规则。\n"
   ]
  },
  {
   "cell_type": "markdown",
   "metadata": {},
   "source": [
    "## 图书\n",
    "\n",
    "- C Primer Plus 6th\n",
    "- Data Structures and Algorithm Analysis : in C"
   ]
  },
  {
   "cell_type": "code",
   "execution_count": null,
   "metadata": {},
   "outputs": [],
   "source": []
  },
  {
   "cell_type": "markdown",
   "metadata": {},
   "source": [
    "## 资源\n",
    "\n",
    "Linux Kernel Format Style：https://www.kernel.org/doc/html/latest/process/coding-style.html\n",
    "\n",
    "Google C++ Style Guide：https://google.github.io/styleguide/cppguide.html\n",
    "\n",
    "C99 features：https://www.w3schools.in/c-tutorial/c99/\n",
    "\n",
    "C99 status for GCC: https://gcc.gnu.org/c99status.html\n",
    "\n",
    "C Coding Rules：https://wenku.baidu.com/view/5657efe20b1c59eef8c7b4fe.html\n"
   ]
  },
  {
   "cell_type": "code",
   "execution_count": null,
   "metadata": {},
   "outputs": [],
   "source": []
  },
  {
   "cell_type": "markdown",
   "metadata": {},
   "source": [
    "[返回顶部](#top)"
   ]
  }
 ],
 "metadata": {
  "kernelspec": {
   "display_name": "C",
   "language": "c",
   "name": "c"
  },
  "language_info": {
   "file_extension": ".c",
   "mimetype": "text/plain",
   "name": "c"
  }
 },
 "nbformat": 4,
 "nbformat_minor": 2
}
