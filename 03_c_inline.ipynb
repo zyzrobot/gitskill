{
 "cells": [
  {
   "cell_type": "markdown",
   "metadata": {},
   "source": [
    "<a name=\"top\"></a><img src=\"images/C_CODING_RULES.png\" alt=\"C logo\" style=\"width:800px;\" />"
   ]
  },
  {
   "cell_type": "markdown",
   "metadata": {},
   "source": [
    "# 3. 内联函数\n",
    "**Next: [数据类型](04_c_strut.ipynb)**\n",
    "\n",
    "## 简述\n",
    "现代C编译器都支持内联函数，软件开发的趋势也是逐渐使用内联函数取代宏函数。\n",
    "\n",
    "当函数被声明为内联函数之后，编译器会将其内联展开，而不是按通常的函数调用机制进行调用。"
   ]
  },
  {
   "cell_type": "markdown",
   "metadata": {},
   "source": [
    "## 规则1：只有当函数少于等于10行时才将其定义为内联函数。\n",
    "内联函数应该是短小精悍的函数，长函数并不适合被定义为内联函数。"
   ]
  },
  {
   "cell_type": "code",
   "execution_count": null,
   "metadata": {},
   "outputs": [],
   "source": [
    "inline int max2(int a, int b)\n",
    "{\n",
    "    return a > b ? a : b;\n",
    "}"
   ]
  },
  {
   "cell_type": "markdown",
   "metadata": {},
   "source": [
    "## 规则2：不要内联那些包含循环或switch语句的函数\n",
    "引入内联的目的是消除函数调用时的时间开销,它通常用于频繁执行的很短的函数。\n",
    "\n",
    "如果函数中有循环或递归,用于调用的时间就可忽略不计,失去了内联存在的意义。\n",
    "\n",
    "如果仍坚持用内联,不仅使主调函数变得臃肿,一般还会使模块间不必要的耦合增多,不利于代码的维护。"
   ]
  },
  {
   "cell_type": "code",
   "execution_count": null,
   "metadata": {},
   "outputs": [],
   "source": []
  },
  {
   "cell_type": "markdown",
   "metadata": {},
   "source": [
    "## 规则3：即使声明为内联函数，编译器也可能生成非内联版本\n",
    "例如递归函数，因为需要嵌套调用，编译器只能生成为非内联函数。\n"
   ]
  },
  {
   "cell_type": "code",
   "execution_count": null,
   "metadata": {},
   "outputs": [],
   "source": []
  },
  {
   "cell_type": "markdown",
   "metadata": {},
   "source": [
    "## 缺点：\n",
    "内联函数也不是万能的，开发的时候也需要清楚的认识到它的缺陷，例如：\n",
    "- 滥用内联将导致程序变得更慢。\n",
    "- 内联可能使目标代码量或增或减，这取决于内联函数的大小。\n",
    "- 内联非常短小的存取函数通常会减少代码大小，但内联一个相当大的函数将戏剧性的增加代码大小。\n",
    "- 现代处理器由于更好的利用了指令缓存，小巧的代码往往执行更快。"
   ]
  },
  {
   "cell_type": "code",
   "execution_count": null,
   "metadata": {},
   "outputs": [],
   "source": []
  },
  {
   "cell_type": "markdown",
   "metadata": {},
   "source": [
    "[返回顶部](#top)"
   ]
  }
 ],
 "metadata": {
  "kernelspec": {
   "display_name": "C",
   "language": "c",
   "name": "c"
  },
  "language_info": {
   "file_extension": ".c",
   "mimetype": "text/plain",
   "name": "c"
  }
 },
 "nbformat": 4,
 "nbformat_minor": 2
}
