{
 "cells": [
  {
   "cell_type": "markdown",
   "metadata": {},
   "source": [
    "<a name=\"top\"></a><img src=\"images/C_CODING_RULES.png\" alt=\"C logo\" style=\"width:800px;\" />"
   ]
  },
  {
   "cell_type": "markdown",
   "metadata": {},
   "source": [
    "# 7. 格式化\n",
    "**Next: [QA](08_c_qa.ipynb)**\n",
    "\n",
    "## 简述\n",
    "迥异的代码风格会导致阅读和维护的困难，因此在一个项目中代码的编写格式应符合统一的风格标准。C语言的代码格式也有很多种，例如：\n",
    "- GNU\n",
    "- K&R\n",
    "- White Smiths\n",
    "- LISP\n",
    "\n",
    "我们推荐使用 Linux Kernel 格式方案，这是一种 K&R 改进格式。\n",
    "\n",
    "具体可参阅：https://www.kernel.org/doc/html/latest/process/coding-style.html"
   ]
  },
  {
   "cell_type": "markdown",
   "metadata": {},
   "source": [
    "## 代码进缩：4个空格\n",
    "不要使用TAB键进缩，因为TAB键会导致不同编辑软件显示的差异。"
   ]
  },
  {
   "cell_type": "markdown",
   "metadata": {},
   "source": [
    "## 长代码换行：80个字符\n",
    "一行代码最长不得超过80个字符，因为过长的行代码会导致阅读的困难，不便于理解代码的逻辑。"
   ]
  },
  {
   "cell_type": "markdown",
   "metadata": {},
   "source": [
    "## 括号\n",
    "对所有非函数代码块，如if, switch, for, while, do，有以下格式："
   ]
  },
  {
   "cell_type": "code",
   "execution_count": null,
   "metadata": {},
   "outputs": [],
   "source": [
    "if (x is true) {\n",
    "    we do y\n",
    "}\n",
    "\n",
    "if (x == y) {\n",
    "    ...\n",
    "} else if (x > y) {\n",
    "    ...\n",
    "} else {\n",
    "    ....\n",
    "}\n",
    "\n",
    "do {\n",
    "    body of do-loop\n",
    "} while (condition);\n",
    "\n",
    "switch (action) {\n",
    "case KOBJ_ADD:\n",
    "    return \"add\";\n",
    "case KOBJ_REMOVE:\n",
    "    return \"remove\";\n",
    "case KOBJ_CHANGE:\n",
    "    return \"change\";\n",
    "default:\n",
    "     return NULL;\n",
    "}"
   ]
  },
  {
   "cell_type": "markdown",
   "metadata": {},
   "source": [
    "对应函数定义，格式为："
   ]
  },
  {
   "cell_type": "code",
   "execution_count": null,
   "metadata": {},
   "outputs": [],
   "source": [
    "int function(int x)\n",
    "{\n",
    "    body of function\n",
    "}"
   ]
  },
  {
   "cell_type": "markdown",
   "metadata": {},
   "source": [
    "## 留白\n",
    "- 永远不要在行尾添加留白，因为添加冗余的留白会给其他人编辑时造成额外负担。\n",
    "- 垂直留白越少越好，因为同一屏可以显示的代码越多，越容易理解程序的控制流。"
   ]
  },
  {
   "cell_type": "markdown",
   "metadata": {},
   "source": [
    "[返回顶部](#top)"
   ]
  }
 ],
 "metadata": {
  "kernelspec": {
   "display_name": "C",
   "language": "c",
   "name": "c"
  },
  "language_info": {
   "file_extension": ".c",
   "mimetype": "text/plain",
   "name": "c"
  }
 },
 "nbformat": 4,
 "nbformat_minor": 2
}
