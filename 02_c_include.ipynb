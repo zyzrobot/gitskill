{
 "cells": [
  {
   "cell_type": "markdown",
   "metadata": {},
   "source": [
    "<a name=\"top\"></a><img src=\"images/C_CODING_RULES.png\" alt=\"C logo\" style=\"width:800px;\" />"
   ]
  },
  {
   "cell_type": "markdown",
   "metadata": {},
   "source": [
    "# 2. 头文件\n",
    "**Next: [内联函数](03_c_inline.ipynb)**\n",
    "\n",
    "## 简述\n",
    "头文件一般用于定义数据结构、API声明、寄存器等。在开发过程中，应遵循以下规则："
   ]
  },
  {
   "cell_type": "markdown",
   "metadata": {},
   "source": [
    "## 规则1：头文件必须用宏保护起来。\n",
    "因为头文件之间的 #include 关系非常复杂，为防止同个头文件多次被 #include 导致的错误，必须为头文件添加宏保护。模板格式如下："
   ]
  },
  {
   "cell_type": "code",
   "execution_count": null,
   "metadata": {},
   "outputs": [],
   "source": [
    "#ifndef _FOO_H_\n",
    "#define _FOO_H_\n",
    "\n",
    "\n",
    "//define your data struct/macro/api here\n",
    "\n",
    " \n",
    "#endif  // _FOO_H_"
   ]
  },
  {
   "cell_type": "markdown",
   "metadata": {},
   "source": [
    "## 规则2：头文件必须是完备的。\n",
    "当头文件被 #include 到源码中时，不会因为缺少其他头文件而导致编译错误。\n",
    "\n",
    "也就是说，头文件中依赖的其他头文件，都应该 #include 进来。"
   ]
  },
  {
   "cell_type": "code",
   "execution_count": null,
   "metadata": {},
   "outputs": [],
   "source": []
  },
  {
   "cell_type": "markdown",
   "metadata": {},
   "source": [
    "## 规则3：引入头文件时禁止使用相对路径\n",
    "项目内头文件应按照项目源代码目录树结构排列，避免使用 Linux 特殊的快捷目录 . (当前目录) 或 .. (上级目录)。\n",
    "\n",
    "应该以项目中的源码目录 source 和 头文件目录 include 为根目录，引用头文件路径。"
   ]
  },
  {
   "cell_type": "code",
   "execution_count": null,
   "metadata": {},
   "outputs": [],
   "source": [
    "// BAD CASE\n",
    "#include \"../foo1.h\"\n",
    "#include \"../../foo2.h\""
   ]
  },
  {
   "cell_type": "code",
   "execution_count": null,
   "metadata": {},
   "outputs": [],
   "source": [
    "// GOOD CASE\n",
    "#include \"bar/foo1.h\"\n",
    "#include \"bar/cat/foo2.h\""
   ]
  },
  {
   "cell_type": "markdown",
   "metadata": {},
   "source": [
    "## 规则4： 源码中用到哪些头文件就引入哪些\n",
    "您所依赖的符号 (symbols) 被哪些头文件所定义，您就应该包含（include）哪些头文件，尽量避免前置声明。\n",
    "\n",
    "另外，多余的头文件还可能引起全量编译时间超长、增量编译时间变长等诸多问题。"
   ]
  },
  {
   "cell_type": "code",
   "execution_count": null,
   "metadata": {},
   "outputs": [],
   "source": []
  },
  {
   "cell_type": "markdown",
   "metadata": {},
   "source": [
    "## 规则5：其他约定\n",
    "- 头文件以 .h 结尾\n",
    "- 头文件和对应的 C 文件名称要一致\n",
    "- 头文件和对应的 C 文件保存在同一目录下\n",
    "- 单独的头文件保存到 include 目录下"
   ]
  },
  {
   "cell_type": "code",
   "execution_count": null,
   "metadata": {},
   "outputs": [],
   "source": []
  },
  {
   "cell_type": "markdown",
   "metadata": {},
   "source": [
    "[返回顶部](#top)"
   ]
  }
 ],
 "metadata": {
  "kernelspec": {
   "display_name": "C",
   "language": "c",
   "name": "c"
  },
  "language_info": {
   "file_extension": ".c",
   "mimetype": "text/plain",
   "name": "c"
  }
 },
 "nbformat": 4,
 "nbformat_minor": 2
}
