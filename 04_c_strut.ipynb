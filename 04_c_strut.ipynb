{
 "cells": [
  {
   "cell_type": "markdown",
   "metadata": {},
   "source": [
    "<a name=\"top\"></a><img src=\"images/C_CODING_RULES.png\" alt=\"C logo\" style=\"width:800px;\" />"
   ]
  },
  {
   "cell_type": "markdown",
   "metadata": {},
   "source": [
    "# 4.数据类型\n",
    "**Next: [变量](05_c_variable.ipynb)**\n",
    "\n",
    "## 简述\n",
    "C语言有丰富的数据类型，可以自定义新的数据结构。因此，C语言的数据类型也是非常灵活的。"
   ]
  },
  {
   "cell_type": "markdown",
   "metadata": {},
   "source": [
    "## 规则1：不要直接使用默认数据类型。\n",
    "char、int、long等默认数据类型，对不同的编译器或不同的平台，其能表达的数据范围也是有很大的差异的。直接使用默认数据类型，会导致代码的可移植性大大降低。更好的方法是使用 typedef 定义基本数据类型，屏蔽平台和编译器的差异。"
   ]
  },
  {
   "cell_type": "code",
   "execution_count": null,
   "metadata": {},
   "outputs": [],
   "source": [
    "typedef unsigned char \t\t\tu8;\n",
    "typedef unsigned short\t\t\tu16;\n",
    "typedef unsigned int\t\t\tu32;\n",
    "typedef unsigned long long\t\tu64;\n",
    "\n",
    "typedef signed char \t\t\ts8;\n",
    "typedef signed short\t\t\ts16;\n",
    "typedef signed int\t\t\t\ts32;\n",
    "typedef signed long long \t\ts64;"
   ]
  },
  {
   "cell_type": "markdown",
   "metadata": {},
   "source": [
    "## 规则2：使用 enum 表达常量类型。\n",
    "枚举和宏定义都可以表示常量型数据，但推荐使用枚举，避免使用宏。\n",
    "\n",
    "因为枚举是一种数据类型，现代编译器可以做很多有益的检查，例如类型检查、溢出检查等。而使用宏、在预处理阶段就已经替换掉了，编译阶段无法实现这些检查。"
   ]
  },
  {
   "cell_type": "code",
   "execution_count": null,
   "metadata": {},
   "outputs": [],
   "source": [
    "// BAD WAY\n",
    "#define ONE 1\n",
    "#define TWO 2\n",
    "#define THREE 3\n",
    "#define FOUR 4\n",
    "#define FIVE 5"
   ]
  },
  {
   "cell_type": "code",
   "execution_count": null,
   "metadata": {},
   "outputs": [],
   "source": [
    "// GOOD WAY\n",
    "typedef enum _num_e_ {\n",
    "    ONE = 1,\n",
    "    TWO,\n",
    "    THREE,\n",
    "    FOUR,\n",
    "    FIVE\n",
    "} num_e;"
   ]
  },
  {
   "cell_type": "markdown",
   "metadata": {},
   "source": [
    "## 规则3：使用 union 表达寄存器类型。\n",
    "一般寄存器都包括几个非对齐的位域，可以通过宏代码来存取，也可以通过 union 存取。推荐的做法是使用 union 表述。优点是：可移植性好；不需要写大量的宏代码；后期修改方便等。\n"
   ]
  },
  {
   "cell_type": "code",
   "execution_count": null,
   "metadata": {},
   "outputs": [],
   "source": [
    "// BAD WAY\n",
    "typedef u32 reg_dma_status;\n",
    "\n",
    "#define SET_DMA_STATUS(reg, val) ((reg) = (val) & 0xF)\n",
    "#define GET_DMA_STATUS(reg) ((reg) & 0xF)"
   ]
  },
  {
   "cell_type": "code",
   "execution_count": null,
   "metadata": {},
   "outputs": [],
   "source": [
    "// GOOD WAY\n",
    "typedef union _dma_status_t{\n",
    "    struct {\n",
    "        u32 status : 4;\n",
    "        u32 rsvd0  : 28;\n",
    "    };\n",
    "    u32 val;\n",
    "} dma_status_t;\n",
    "\n",
    "dma_status_t dma_status;\n",
    "\n",
    "// set\n",
    "dma_status.status = val;\n",
    "\n",
    "// get\n",
    "u8 status = dma_status.status;\n"
   ]
  },
  {
   "cell_type": "markdown",
   "metadata": {},
   "source": [
    "## 规则4：紧凑型数据必须加pack约束\n",
    "\n",
    "用于数据交换、消息交换、协议格式的数据类型一般都是紧凑型的，在定义这类struct的时候，必须使用packed约束。"
   ]
  },
  {
   "cell_type": "code",
   "execution_count": null,
   "metadata": {},
   "outputs": [],
   "source": [
    "// WRONG WAY\n",
    "typedef struct _notice_msg_t_ {\n",
    "    u8 id;\n",
    "    u16 len;\n",
    "    u32 ptr;\n",
    "} notice_msg_t; // sizeof(notice_msg_t) == 8"
   ]
  },
  {
   "cell_type": "code",
   "execution_count": null,
   "metadata": {},
   "outputs": [],
   "source": [
    "// CORRECT WAY\n",
    "typedef struct _notice_msg_t_ {\n",
    "    u8 id;\n",
    "    u16 len;\n",
    "    u32 ptr;\n",
    "} __attribute__((packed)) notice_msg_t; // sizeof(notice_msg_t) == 7"
   ]
  },
  {
   "cell_type": "markdown",
   "metadata": {},
   "source": [
    "[返回顶部](#top)"
   ]
  }
 ],
 "metadata": {
  "kernelspec": {
   "display_name": "C",
   "language": "c",
   "name": "c"
  },
  "language_info": {
   "file_extension": ".c",
   "mimetype": "text/plain",
   "name": "c"
  }
 },
 "nbformat": 4,
 "nbformat_minor": 2
}
